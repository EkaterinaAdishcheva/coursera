{
 "cells": [
  {
   "cell_type": "code",
   "execution_count": 1,
   "metadata": {},
   "outputs": [],
   "source": [
    "# Выполним инициализацию основных используемых модулей\n",
    "%matplotlib inline\n",
    "\n",
    "import random\n",
    "import matplotlib.pyplot as plt\n",
    "from sklearn.preprocessing import normalize\n",
    "import numpy as np"
   ]
  },
  {
   "cell_type": "code",
   "execution_count": 3,
   "metadata": {},
   "outputs": [],
   "source": [
    "from sklearn.datasets import load_breast_cancer, load_digits "
   ]
  },
  {
   "cell_type": "code",
   "execution_count": 4,
   "metadata": {},
   "outputs": [],
   "source": [
    "breast_cancer = load_breast_cancer()\n",
    "digits = load_digits()"
   ]
  },
  {
   "cell_type": "code",
   "execution_count": 5,
   "metadata": {},
   "outputs": [],
   "source": [
    "from sklearn.model_selection import cross_val_score"
   ]
  },
  {
   "cell_type": "code",
   "execution_count": 6,
   "metadata": {},
   "outputs": [],
   "source": [
    "from sklearn.naive_bayes import BernoulliNB, MultinomialNB, GaussianNB"
   ]
  },
  {
   "cell_type": "code",
   "execution_count": 30,
   "metadata": {},
   "outputs": [
    {
     "name": "stdout",
     "output_type": "stream",
     "text": [
      "breast_cancer BernoulliNB 0.6274181027790716\n",
      "breast_cancer MultinomialNB 0.8963204471355379\n",
      "breast_cancer GaussianNB 0.9385188635305075\n",
      "digits BernoulliNB 0.8241736304549674\n",
      "digits MultinomialNB 0.8703497369235531\n",
      "digits GaussianNB 0.8069281956050759\n"
     ]
    }
   ],
   "source": [
    "import pandas as pd\n",
    "answear=pd.DataFrame()\n",
    "for data, data_name in zip([breast_cancer, digits],['breast_cancer','digits']):\n",
    "    for clf, clf_name in zip([BernoulliNB(), MultinomialNB(), GaussianNB()],['BernoulliNB', 'MultinomialNB', 'GaussianNB']):\n",
    "        print(data_name, clf_name, cross_val_score(clf, data.data, data.target).mean())\n",
    "        answear = answear.append([[data_name, clf_name, cross_val_score(clf, data.data, data.target).mean()]])\n",
    "answear.columns = ['Data','NB', 'Score']        "
   ]
  },
  {
   "cell_type": "code",
   "execution_count": 32,
   "metadata": {},
   "outputs": [
    {
     "data": {
      "text/html": [
       "<div>\n",
       "<style scoped>\n",
       "    .dataframe tbody tr th:only-of-type {\n",
       "        vertical-align: middle;\n",
       "    }\n",
       "\n",
       "    .dataframe tbody tr th {\n",
       "        vertical-align: top;\n",
       "    }\n",
       "\n",
       "    .dataframe thead th {\n",
       "        text-align: right;\n",
       "    }\n",
       "</style>\n",
       "<table border=\"1\" class=\"dataframe\">\n",
       "  <thead>\n",
       "    <tr style=\"text-align: right;\">\n",
       "      <th></th>\n",
       "      <th></th>\n",
       "      <th>Score</th>\n",
       "    </tr>\n",
       "    <tr>\n",
       "      <th>Data</th>\n",
       "      <th>NB</th>\n",
       "      <th></th>\n",
       "    </tr>\n",
       "  </thead>\n",
       "  <tbody>\n",
       "    <tr>\n",
       "      <th rowspan=\"3\" valign=\"top\">breast_cancer</th>\n",
       "      <th>BernoulliNB</th>\n",
       "      <td>0.627418</td>\n",
       "    </tr>\n",
       "    <tr>\n",
       "      <th>MultinomialNB</th>\n",
       "      <td>0.896320</td>\n",
       "    </tr>\n",
       "    <tr>\n",
       "      <th>GaussianNB</th>\n",
       "      <td>0.938519</td>\n",
       "    </tr>\n",
       "    <tr>\n",
       "      <th rowspan=\"3\" valign=\"top\">digits</th>\n",
       "      <th>BernoulliNB</th>\n",
       "      <td>0.824174</td>\n",
       "    </tr>\n",
       "    <tr>\n",
       "      <th>MultinomialNB</th>\n",
       "      <td>0.870350</td>\n",
       "    </tr>\n",
       "    <tr>\n",
       "      <th>GaussianNB</th>\n",
       "      <td>0.806928</td>\n",
       "    </tr>\n",
       "  </tbody>\n",
       "</table>\n",
       "</div>"
      ],
      "text/plain": [
       "                                Score\n",
       "Data          NB                     \n",
       "breast_cancer BernoulliNB    0.627418\n",
       "              MultinomialNB  0.896320\n",
       "              GaussianNB     0.938519\n",
       "digits        BernoulliNB    0.824174\n",
       "              MultinomialNB  0.870350\n",
       "              GaussianNB     0.806928"
      ]
     },
     "execution_count": 32,
     "metadata": {},
     "output_type": "execute_result"
    }
   ],
   "source": [
    "answear = answear.set_index(['Data', 'NB'])\n",
    "answear"
   ]
  },
  {
   "cell_type": "code",
   "execution_count": 35,
   "metadata": {},
   "outputs": [],
   "source": [
    "def write_answer(problem, answear):\n",
    "    with open(\"pa_5.2_\"+str(problem)+'.txt', \"w\") as fout:\n",
    "        fout.write(str(answear))"
   ]
  },
  {
   "cell_type": "markdown",
   "metadata": {},
   "source": [
    "## Вопрос 1\n",
    "Каким получилось максимальное качество классификации на датасете breast_cancer?\n",
    "\n",
    "## Вопрос 2\n",
    "Каким получилось максимальное качество классификации на датасете digits?\n",
    "\n",
    "## Вопрос 3\n",
    "Выберите верные утверждения и запишите их номера через пробел (в порядке возрастания номера):\n",
    "* На вещественных признаках лучше всего сработал наивный байесовский классификатор с распределением Бернулли\n",
    "* На вещественных признаках лучше всего сработал наивный байесовский классификатор с мультиномиальным распределением\n",
    "* Мультиномиальное распределение лучше показало себя на выборке с целыми неотрицательными значениями признаков\n",
    "* На вещественных признаках лучше всего сработало нормальное распределение"
   ]
  },
  {
   "cell_type": "code",
   "execution_count": 38,
   "metadata": {},
   "outputs": [],
   "source": [
    "write_answer(1, answear.loc['breast_cancer','GaussianNB'][0])\n",
    "write_answer(2, answear.loc['digits','MultinomialNB'][0])\n",
    "write_answer(3, '3 4')"
   ]
  }
 ],
 "metadata": {
  "kernelspec": {
   "display_name": "Python 3",
   "language": "python",
   "name": "python3"
  },
  "language_info": {
   "codemirror_mode": {
    "name": "ipython",
    "version": 3
   },
   "file_extension": ".py",
   "mimetype": "text/x-python",
   "name": "python",
   "nbconvert_exporter": "python",
   "pygments_lexer": "ipython3",
   "version": "3.7.3"
  }
 },
 "nbformat": 4,
 "nbformat_minor": 2
}
